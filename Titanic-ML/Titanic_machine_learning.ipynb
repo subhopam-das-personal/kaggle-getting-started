{
 "cells": [
  {
   "cell_type": "code",
   "execution_count": 80,
   "id": "e3f555ac",
   "metadata": {},
   "outputs": [
    {
     "data": {
      "text/html": [
       "<div>\n",
       "<style scoped>\n",
       "    .dataframe tbody tr th:only-of-type {\n",
       "        vertical-align: middle;\n",
       "    }\n",
       "\n",
       "    .dataframe tbody tr th {\n",
       "        vertical-align: top;\n",
       "    }\n",
       "\n",
       "    .dataframe thead th {\n",
       "        text-align: right;\n",
       "    }\n",
       "</style>\n",
       "<table border=\"1\" class=\"dataframe\">\n",
       "  <thead>\n",
       "    <tr style=\"text-align: right;\">\n",
       "      <th></th>\n",
       "      <th>PassengerId</th>\n",
       "      <th>Survived</th>\n",
       "      <th>Pclass</th>\n",
       "      <th>Name</th>\n",
       "      <th>Sex</th>\n",
       "      <th>Age</th>\n",
       "      <th>SibSp</th>\n",
       "      <th>Parch</th>\n",
       "      <th>Ticket</th>\n",
       "      <th>Fare</th>\n",
       "      <th>Cabin</th>\n",
       "      <th>Embarked</th>\n",
       "    </tr>\n",
       "  </thead>\n",
       "  <tbody>\n",
       "    <tr>\n",
       "      <th>0</th>\n",
       "      <td>1</td>\n",
       "      <td>0</td>\n",
       "      <td>3</td>\n",
       "      <td>Braund, Mr. Owen Harris</td>\n",
       "      <td>male</td>\n",
       "      <td>22.0</td>\n",
       "      <td>1</td>\n",
       "      <td>0</td>\n",
       "      <td>A/5 21171</td>\n",
       "      <td>7.2500</td>\n",
       "      <td>NaN</td>\n",
       "      <td>S</td>\n",
       "    </tr>\n",
       "    <tr>\n",
       "      <th>1</th>\n",
       "      <td>2</td>\n",
       "      <td>1</td>\n",
       "      <td>1</td>\n",
       "      <td>Cumings, Mrs. John Bradley (Florence Briggs Th...</td>\n",
       "      <td>female</td>\n",
       "      <td>38.0</td>\n",
       "      <td>1</td>\n",
       "      <td>0</td>\n",
       "      <td>PC 17599</td>\n",
       "      <td>71.2833</td>\n",
       "      <td>C85</td>\n",
       "      <td>C</td>\n",
       "    </tr>\n",
       "    <tr>\n",
       "      <th>2</th>\n",
       "      <td>3</td>\n",
       "      <td>1</td>\n",
       "      <td>3</td>\n",
       "      <td>Heikkinen, Miss. Laina</td>\n",
       "      <td>female</td>\n",
       "      <td>26.0</td>\n",
       "      <td>0</td>\n",
       "      <td>0</td>\n",
       "      <td>STON/O2. 3101282</td>\n",
       "      <td>7.9250</td>\n",
       "      <td>NaN</td>\n",
       "      <td>S</td>\n",
       "    </tr>\n",
       "    <tr>\n",
       "      <th>3</th>\n",
       "      <td>4</td>\n",
       "      <td>1</td>\n",
       "      <td>1</td>\n",
       "      <td>Futrelle, Mrs. Jacques Heath (Lily May Peel)</td>\n",
       "      <td>female</td>\n",
       "      <td>35.0</td>\n",
       "      <td>1</td>\n",
       "      <td>0</td>\n",
       "      <td>113803</td>\n",
       "      <td>53.1000</td>\n",
       "      <td>C123</td>\n",
       "      <td>S</td>\n",
       "    </tr>\n",
       "    <tr>\n",
       "      <th>4</th>\n",
       "      <td>5</td>\n",
       "      <td>0</td>\n",
       "      <td>3</td>\n",
       "      <td>Allen, Mr. William Henry</td>\n",
       "      <td>male</td>\n",
       "      <td>35.0</td>\n",
       "      <td>0</td>\n",
       "      <td>0</td>\n",
       "      <td>373450</td>\n",
       "      <td>8.0500</td>\n",
       "      <td>NaN</td>\n",
       "      <td>S</td>\n",
       "    </tr>\n",
       "  </tbody>\n",
       "</table>\n",
       "</div>"
      ],
      "text/plain": [
       "   PassengerId  Survived  Pclass  \\\n",
       "0            1         0       3   \n",
       "1            2         1       1   \n",
       "2            3         1       3   \n",
       "3            4         1       1   \n",
       "4            5         0       3   \n",
       "\n",
       "                                                Name     Sex   Age  SibSp  \\\n",
       "0                            Braund, Mr. Owen Harris    male  22.0      1   \n",
       "1  Cumings, Mrs. John Bradley (Florence Briggs Th...  female  38.0      1   \n",
       "2                             Heikkinen, Miss. Laina  female  26.0      0   \n",
       "3       Futrelle, Mrs. Jacques Heath (Lily May Peel)  female  35.0      1   \n",
       "4                           Allen, Mr. William Henry    male  35.0      0   \n",
       "\n",
       "   Parch            Ticket     Fare Cabin Embarked  \n",
       "0      0         A/5 21171   7.2500   NaN        S  \n",
       "1      0          PC 17599  71.2833   C85        C  \n",
       "2      0  STON/O2. 3101282   7.9250   NaN        S  \n",
       "3      0            113803  53.1000  C123        S  \n",
       "4      0            373450   8.0500   NaN        S  "
      ]
     },
     "execution_count": 80,
     "metadata": {},
     "output_type": "execute_result"
    }
   ],
   "source": [
    "import numpy as np\n",
    "import pandas as pd\n",
    "import matplotlib.pyplot as plt\n",
    "import seaborn as sns\n",
    "import os\n",
    "\n",
    "data = pd.read_csv('./data/train.csv')\n",
    "# Check if the data is loaded correctly\n",
    "if data.empty:\n",
    "    raise ValueError(\"The data file is empty or not loaded correctly.\")\n",
    "# Display the first few rows of the dataset\n",
    "data.head()"
   ]
  },
  {
   "cell_type": "markdown",
   "id": "a612989c",
   "metadata": {},
   "source": [
    "* Name is not required\n",
    "* Survived is a binary categorical variable\n",
    "* Pclass is a multiclass categorical\n",
    "* Sex is a categorical variable\n",
    "* Convert the parent and sibling present to categorical\n",
    "* Embarked can be made categorical\n",
    "* Find out age distribution\n",
    "* First drop and then try cluster around the cabin values\n",
    "\n",
    "\n"
   ]
  },
  {
   "cell_type": "code",
   "execution_count": 81,
   "id": "b26ec6f6",
   "metadata": {},
   "outputs": [],
   "source": [
    "# Remove the  name,ticket, and cabin columns\n",
    "data = data.drop(columns=['Name', 'Ticket', 'Cabin'])"
   ]
  },
  {
   "cell_type": "code",
   "execution_count": 82,
   "id": "6dec4910",
   "metadata": {},
   "outputs": [
    {
     "name": "stdout",
     "output_type": "stream",
     "text": [
      "Missing values in each column:\n",
      " PassengerId      0\n",
      "Survived         0\n",
      "Pclass           0\n",
      "Sex              0\n",
      "Age            177\n",
      "SibSp            0\n",
      "Parch            0\n",
      "Fare             0\n",
      "Embarked         2\n",
      "dtype: int64\n",
      "\n",
      "Percentage of missing values in each column:\n",
      " PassengerId     0.000000\n",
      "Survived        0.000000\n",
      "Pclass          0.000000\n",
      "Sex             0.000000\n",
      "Age            19.865320\n",
      "SibSp           0.000000\n",
      "Parch           0.000000\n",
      "Fare            0.000000\n",
      "Embarked        0.224467\n",
      "dtype: float64\n"
     ]
    }
   ],
   "source": [
    "\n",
    "# Check for missing values in the dataset\n",
    "missing_values = data.isnull().sum()\n",
    "# Display the missing values\n",
    "print(\"Missing values in each column:\\n\", missing_values)\n",
    "# find percentage of missing values\n",
    "missing_percentage = (missing_values / len(data)) * 100\n",
    "# Display the percentage of missing values\n",
    "print(\"\\nPercentage of missing values in each column:\\n\", missing_percentage)"
   ]
  },
  {
   "cell_type": "code",
   "execution_count": 83,
   "id": "e46376ec",
   "metadata": {},
   "outputs": [
    {
     "name": "stdout",
     "output_type": "stream",
     "text": [
      "\n",
      "Statistics of Age column:\n",
      "Mean: 29.69911764705882, Median: 28.0, Mode: 24.0, Standard Deviation: 14.526497332334042\n"
     ]
    }
   ],
   "source": [
    "# Calculte the mean,median,mode and stadard deviation of  age coolumn\n",
    "age_mean = data['Age'].mean()\n",
    "age_median = data['Age'].median()\n",
    "age_mode = data['Age'].mode()[0]\n",
    "age_std = data['Age'].std()\n",
    "# Display the statistics\n",
    "print(\"\\nStatistics of Age column:\")\n",
    "print(f\"Mean: {age_mean}, Median: {age_median}, Mode: {age_mode}, Standard Deviation: {age_std}\")"
   ]
  },
  {
   "cell_type": "code",
   "execution_count": 84,
   "id": "b4292de4",
   "metadata": {},
   "outputs": [
    {
     "name": "stdout",
     "output_type": "stream",
     "text": [
      "\n",
      "Counts of different values in Embarked column:\n",
      " Embarked\n",
      "S    644\n",
      "C    168\n",
      "Q     77\n",
      "Name: count, dtype: int64\n"
     ]
    }
   ],
   "source": [
    "# Calculate different values in Embarked column and find the most frequent value\n",
    "embarked_counts = data['Embarked'].value_counts()\n",
    "print(\"\\nCounts of different values in Embarked column:\\n\", embarked_counts)"
   ]
  },
  {
   "cell_type": "code",
   "execution_count": 85,
   "id": "4e18098f",
   "metadata": {},
   "outputs": [
    {
     "name": "stderr",
     "output_type": "stream",
     "text": [
      "/tmp/ipykernel_212095/2450225370.py:2: FutureWarning: A value is trying to be set on a copy of a DataFrame or Series through chained assignment using an inplace method.\n",
      "The behavior will change in pandas 3.0. This inplace method will never work because the intermediate object on which we are setting values always behaves as a copy.\n",
      "\n",
      "For example, when doing 'df[col].method(value, inplace=True)', try using 'df.method({col: value}, inplace=True)' or df[col] = df[col].method(value) instead, to perform the operation inplace on the original object.\n",
      "\n",
      "\n",
      "  data['Age'].fillna(age_mean, inplace=True)\n"
     ]
    }
   ],
   "source": [
    "# impute the missing age values with the mean\n",
    "data['Age'].fillna(age_mean, inplace=True)\n"
   ]
  },
  {
   "cell_type": "code",
   "execution_count": 86,
   "id": "f99896b2",
   "metadata": {},
   "outputs": [
    {
     "name": "stderr",
     "output_type": "stream",
     "text": [
      "/tmp/ipykernel_212095/2418256325.py:2: FutureWarning: A value is trying to be set on a copy of a DataFrame or Series through chained assignment using an inplace method.\n",
      "The behavior will change in pandas 3.0. This inplace method will never work because the intermediate object on which we are setting values always behaves as a copy.\n",
      "\n",
      "For example, when doing 'df[col].method(value, inplace=True)', try using 'df.method({col: value}, inplace=True)' or df[col] = df[col].method(value) instead, to perform the operation inplace on the original object.\n",
      "\n",
      "\n",
      "  data['Embarked'].fillna(data['Embarked'].mode()[0], inplace=True)\n"
     ]
    }
   ],
   "source": [
    "\n",
    "# Also impute the missing embarked values with the most frequent value\n",
    "data['Embarked'].fillna(data['Embarked'].mode()[0], inplace=True)\n",
    "# Convert the embarked column to numerical values\n",
    "data['Embarked'] = data['Embarked'].map({'C': 0, 'Q': 1, 'S': 2})"
   ]
  },
  {
   "cell_type": "code",
   "execution_count": 87,
   "id": "1a84240b",
   "metadata": {},
   "outputs": [
    {
     "data": {
      "text/html": [
       "<div>\n",
       "<style scoped>\n",
       "    .dataframe tbody tr th:only-of-type {\n",
       "        vertical-align: middle;\n",
       "    }\n",
       "\n",
       "    .dataframe tbody tr th {\n",
       "        vertical-align: top;\n",
       "    }\n",
       "\n",
       "    .dataframe thead th {\n",
       "        text-align: right;\n",
       "    }\n",
       "</style>\n",
       "<table border=\"1\" class=\"dataframe\">\n",
       "  <thead>\n",
       "    <tr style=\"text-align: right;\">\n",
       "      <th></th>\n",
       "      <th>PassengerId</th>\n",
       "      <th>Survived</th>\n",
       "      <th>Pclass</th>\n",
       "      <th>Sex</th>\n",
       "      <th>Age</th>\n",
       "      <th>SibSp</th>\n",
       "      <th>Parch</th>\n",
       "      <th>Fare</th>\n",
       "      <th>Embarked</th>\n",
       "    </tr>\n",
       "  </thead>\n",
       "  <tbody>\n",
       "    <tr>\n",
       "      <th>0</th>\n",
       "      <td>1</td>\n",
       "      <td>0</td>\n",
       "      <td>3</td>\n",
       "      <td>0</td>\n",
       "      <td>22.0</td>\n",
       "      <td>1</td>\n",
       "      <td>0</td>\n",
       "      <td>7.2500</td>\n",
       "      <td>2</td>\n",
       "    </tr>\n",
       "    <tr>\n",
       "      <th>1</th>\n",
       "      <td>2</td>\n",
       "      <td>1</td>\n",
       "      <td>1</td>\n",
       "      <td>1</td>\n",
       "      <td>38.0</td>\n",
       "      <td>1</td>\n",
       "      <td>0</td>\n",
       "      <td>71.2833</td>\n",
       "      <td>0</td>\n",
       "    </tr>\n",
       "    <tr>\n",
       "      <th>2</th>\n",
       "      <td>3</td>\n",
       "      <td>1</td>\n",
       "      <td>3</td>\n",
       "      <td>1</td>\n",
       "      <td>26.0</td>\n",
       "      <td>0</td>\n",
       "      <td>0</td>\n",
       "      <td>7.9250</td>\n",
       "      <td>2</td>\n",
       "    </tr>\n",
       "    <tr>\n",
       "      <th>3</th>\n",
       "      <td>4</td>\n",
       "      <td>1</td>\n",
       "      <td>1</td>\n",
       "      <td>1</td>\n",
       "      <td>35.0</td>\n",
       "      <td>1</td>\n",
       "      <td>0</td>\n",
       "      <td>53.1000</td>\n",
       "      <td>2</td>\n",
       "    </tr>\n",
       "    <tr>\n",
       "      <th>4</th>\n",
       "      <td>5</td>\n",
       "      <td>0</td>\n",
       "      <td>3</td>\n",
       "      <td>0</td>\n",
       "      <td>35.0</td>\n",
       "      <td>0</td>\n",
       "      <td>0</td>\n",
       "      <td>8.0500</td>\n",
       "      <td>2</td>\n",
       "    </tr>\n",
       "  </tbody>\n",
       "</table>\n",
       "</div>"
      ],
      "text/plain": [
       "   PassengerId  Survived  Pclass  Sex   Age  SibSp  Parch     Fare  Embarked\n",
       "0            1         0       3    0  22.0      1      0   7.2500         2\n",
       "1            2         1       1    1  38.0      1      0  71.2833         0\n",
       "2            3         1       3    1  26.0      0      0   7.9250         2\n",
       "3            4         1       1    1  35.0      1      0  53.1000         2\n",
       "4            5         0       3    0  35.0      0      0   8.0500         2"
      ]
     },
     "execution_count": 87,
     "metadata": {},
     "output_type": "execute_result"
    }
   ],
   "source": [
    "# 1. For sex column use 1 =Male and 0=female\n",
    "data['Sex'] = data['Sex'].map({'male': 0, 'female': 1})\n",
    "\n",
    "\n",
    "\n",
    "# Drop original columns if not needed\n",
    "final_df = data\n",
    "\n",
    "final_df.head()"
   ]
  },
  {
   "cell_type": "code",
   "execution_count": 88,
   "id": "36234dbe",
   "metadata": {},
   "outputs": [
    {
     "name": "stdout",
     "output_type": "stream",
     "text": [
      "\n",
      "Missing values in the final DataFrame:\n",
      " PassengerId    0\n",
      "Survived       0\n",
      "Pclass         0\n",
      "Sex            0\n",
      "Age            0\n",
      "SibSp          0\n",
      "Parch          0\n",
      "Fare           0\n",
      "Embarked       0\n",
      "dtype: int64\n"
     ]
    }
   ],
   "source": [
    "# check for missing values again\n",
    "missing_values_final = final_df.isnull().sum()\n",
    "# Display the missing values in the final DataFrame\n",
    "print(\"\\nMissing values in the final DataFrame:\\n\", missing_values_final)"
   ]
  },
  {
   "cell_type": "code",
   "execution_count": 89,
   "id": "0788df9d",
   "metadata": {},
   "outputs": [
    {
     "name": "stdout",
     "output_type": "stream",
     "text": [
      "Selected features: ['Pclass', 'Sex', 'Parch', 'Fare', 'Embarked']\n",
      "Sex         372.405724\n",
      "Pclass      115.031272\n",
      "Fare         63.030764\n",
      "Embarked     25.717286\n",
      "Parch         5.963464\n",
      "Age           4.353516\n",
      "SibSp         1.110572\n",
      "dtype: float64\n"
     ]
    }
   ],
   "source": [
    "X = final_df.drop(['PassengerId', 'Survived'], axis=1)\n",
    "y = final_df['Survived']\n",
    "\n",
    "from sklearn.feature_selection import SelectKBest, f_classif\n",
    "\n",
    "# Select top k features (for example, k=5)\n",
    "selector = SelectKBest(score_func=f_classif, k=5)\n",
    "X_new = selector.fit_transform(X, y)\n",
    "\n",
    "# Get the selected feature names\n",
    "selected_features = X.columns[selector.get_support()]\n",
    "print(\"Selected features:\", list(selected_features))\n",
    "feature_scores = pd.Series(selector.scores_, index=X.columns)\n",
    "print(feature_scores.sort_values(ascending=False))"
   ]
  },
  {
   "cell_type": "code",
   "execution_count": 90,
   "id": "1338e084",
   "metadata": {},
   "outputs": [
    {
     "name": "stdout",
     "output_type": "stream",
     "text": [
      "Accuracy of Random Forest Classifier: 0.79\n",
      "\n",
      "Classification Report:\n",
      "               precision    recall  f1-score   support\n",
      "\n",
      "           0       0.80      0.84      0.82       157\n",
      "           1       0.76      0.71      0.73       111\n",
      "\n",
      "    accuracy                           0.79       268\n",
      "   macro avg       0.78      0.78      0.78       268\n",
      "weighted avg       0.79      0.79      0.79       268\n",
      "\n"
     ]
    },
    {
     "data": {
      "image/png": "[encoded data removed]",
      "text/plain": [
       "<Figure size 800x600 with 2 Axes>"
      ]
     },
     "metadata": {},
     "output_type": "display_data"
    }
   ],
   "source": [
    "from sklearn.model_selection import train_test_split\n",
    "# Split the data into training and testing sets\n",
    "X_train, X_test, y_train, y_test = train_test_split(X_new, y, test_size=0.3, random_state=42)\n",
    "from sklearn.ensemble import RandomForestClassifier\n",
    "# Create a Random Forest Classifier\n",
    "rf_classifier = RandomForestClassifier(n_estimators=100, random_state=42)\n",
    "# Fit the model on the training data\n",
    "rf_classifier.fit(X_train, y_train)\n",
    "# Evaluate the model on the test data\n",
    "from sklearn.metrics import accuracy_score, classification_report, confusion_matrix\n",
    "# Make predictions on the test set\n",
    "y_pred = rf_classifier.predict(X_test)\n",
    "# Calculate accuracy\n",
    "accuracy = accuracy_score(y_test, y_pred)\n",
    "print(f\"Accuracy of Random Forest Classifier: {accuracy:.2f}\")\n",
    "# Print classification report\n",
    "print(\"\\nClassification Report:\\n\", classification_report(y_test, y_pred))\n",
    "# Print confusion matrix\n",
    "conf_matrix = confusion_matrix(y_test, y_pred)\n",
    "plt.figure(figsize=(8, 6))\n",
    "sns.heatmap(conf_matrix, annot=True, fmt='d', cmap='Blues', xticklabels=['Not Survived', 'Survived'], yticklabels=['Not Survived', 'Survived'])\n",
    "plt.title('Confusion Matrix')\n",
    "plt.xlabel('Predicted')\n",
    "plt.ylabel('Actual')\n",
    "plt.show()\n",
    "# Save the model using joblib"
   ]
  },
  {
   "cell_type": "code",
   "execution_count": 91,
   "id": "62c3a51f",
   "metadata": {},
   "outputs": [
    {
     "name": "stdout",
     "output_type": "stream",
     "text": [
      "Accuracy of Gradient Boosting Classifier: 0.78\n",
      "\n",
      "Classification Report for Gradient Boosting Classifier:\n",
      "               precision    recall  f1-score   support\n",
      "\n",
      "           0       0.78      0.87      0.83       157\n",
      "           1       0.78      0.66      0.72       111\n",
      "\n",
      "    accuracy                           0.78       268\n",
      "   macro avg       0.78      0.77      0.77       268\n",
      "weighted avg       0.78      0.78      0.78       268\n",
      "\n"
     ]
    },
    {
     "data": {
      "image/png": "[encoded data removed]",
      "text/plain": [
       "<Figure size 800x600 with 2 Axes>"
      ]
     },
     "metadata": {},
     "output_type": "display_data"
    }
   ],
   "source": [
    "# let's use a different algorithm, like Gradient Boosting\n",
    "from sklearn.ensemble import GradientBoostingClassifier\n",
    "# Create a Gradient Boosting Classifier\n",
    "gb_classifier = GradientBoostingClassifier(n_estimators=100, random_state=42)\n",
    "# Fit the model on the training data\n",
    "gb_classifier.fit(X_train, y_train)\n",
    "# Make predictions on the test set\n",
    "y_pred_gb = gb_classifier.predict(X_test)\n",
    "# Calculate accuracy\n",
    "accuracy_gb = accuracy_score(y_test, y_pred_gb)\n",
    "print(f\"Accuracy of Gradient Boosting Classifier: {accuracy_gb:.2f}\")\n",
    "# Print classification report\n",
    "print(\"\\nClassification Report for Gradient Boosting Classifier:\\n\", classification_report(y_test, y_pred_gb))\n",
    "# Print confusion matrix for Gradient Boosting Classifier\n",
    "conf_matrix_gb = confusion_matrix(y_test, y_pred_gb)\n",
    "plt.figure(figsize=(8, 6))\n",
    "sns.heatmap(conf_matrix_gb, annot=True, fmt='d', cmap='Blues', xticklabels=['Not Survived', 'Survived'], yticklabels=['Not Survived', 'Survived'])\n",
    "plt.title('Confusion Matrix for Gradient Boosting Classifier')\n",
    "plt.xlabel('Predicted')\n",
    "plt.ylabel('Actual')\n",
    "plt.show()\n"
   ]
  },
  {
   "cell_type": "code",
   "execution_count": 92,
   "id": "376e9cc1",
   "metadata": {},
   "outputs": [
    {
     "name": "stdout",
     "output_type": "stream",
     "text": [
      "Best parameters for Random Forest: {'max_depth': 10, 'min_samples_split': 5, 'n_estimators': 50}\n",
      "Best cross-validated accuracy for Random Forest: 0.82\n"
     ]
    }
   ],
   "source": [
    "#Model Tuning\n",
    "from sklearn.model_selection import GridSearchCV\n",
    "# Define the parameter grid for Random Forest\n",
    "param_grid_rf = {\n",
    "    'n_estimators': [50, 100, 200],\n",
    "    'max_depth': [None, 10, 20],\n",
    "    'min_samples_split': [2, 5, 10]\n",
    "}\n",
    "# Create a GridSearchCV object\n",
    "grid_search_rf = GridSearchCV(estimator=rf_classifier, param_grid=param_grid_rf, cv=5, scoring='accuracy', n_jobs=-1)\n",
    "# Fit the grid search to the training data\n",
    "grid_search_rf.fit(X_train, y_train)\n",
    "# Get the best parameters and best score\n",
    "best_params_rf = grid_search_rf.best_params_\n",
    "best_score_rf = grid_search_rf.best_score_\n",
    "print(f\"Best parameters for Random Forest: {best_params_rf}\")\n",
    "print(f\"Best cross-validated accuracy for Random Forest: {best_score_rf:.2f}\")\n",
    "# Define the parameter grid for Gradient Boosting"
   ]
  },
  {
   "cell_type": "code",
   "execution_count": 93,
   "id": "fbd1a3b4",
   "metadata": {},
   "outputs": [
    {
     "name": "stdout",
     "output_type": "stream",
     "text": [
      "Accuracy of Voting Classifier: 0.79\n",
      "\n",
      "Classification Report for Voting Classifier:\n",
      "               precision    recall  f1-score   support\n",
      "\n",
      "           0       0.79      0.87      0.83       157\n",
      "           1       0.79      0.68      0.73       111\n",
      "\n",
      "    accuracy                           0.79       268\n",
      "   macro avg       0.79      0.77      0.78       268\n",
      "weighted avg       0.79      0.79      0.79       268\n",
      "\n"
     ]
    },
    {
     "data": {
      "image/png": "[encoded data removed]",
      "text/plain": [
       "<Figure size 800x600 with 2 Axes>"
      ]
     },
     "metadata": {},
     "output_type": "display_data"
    }
   ],
   "source": [
    "# Try blending RandomForest with Gradient Boosting\n",
    "from sklearn.ensemble import VotingClassifier\n",
    "# Create a Voting Classifier with Random Forest and Gradient Boosting\n",
    "voting_classifier = VotingClassifier(estimators=[\n",
    "    ('rf', rf_classifier),\n",
    "    ('gb', gb_classifier)\n",
    "], voting='soft')\n",
    "# Fit the voting classifier on the training data\n",
    "voting_classifier.fit(X_train, y_train)\n",
    "# Make predictions on the test set\n",
    "y_pred_voting = voting_classifier.predict(X_test)\n",
    "# Calculate accuracy for the voting classifier\n",
    "accuracy_voting = accuracy_score(y_test, y_pred_voting)\n",
    "print(f\"Accuracy of Voting Classifier: {accuracy_voting:.2f}\")\n",
    "# Print classification report for the voting classifier\n",
    "print(\"\\nClassification Report for Voting Classifier:\\n\", classification_report(y_test, y_pred_voting))\n",
    "# Print confusion matrix for the voting classifier\n",
    "conf_matrix_voting = confusion_matrix(y_test, y_pred_voting)\n",
    "plt.figure(figsize=(8, 6))\n",
    "sns.heatmap(conf_matrix_voting, annot=True, fmt='d', cmap='Blues', xticklabels=['Not Survived', 'Survived'], yticklabels=['Not Survived', 'Survived'])\n",
    "plt.title('Confusion Matrix for Voting Classifier')\n",
    "plt.xlabel('Predicted')\n",
    "plt.ylabel('Actual')\n",
    "plt.show()\n"
   ]
  },
  {
   "cell_type": "code",
   "execution_count": 94,
   "id": "1fe05a86",
   "metadata": {},
   "outputs": [
    {
     "name": "stderr",
     "output_type": "stream",
     "text": [
      "/tmp/ipykernel_212095/3346140858.py:11: FutureWarning: A value is trying to be set on a copy of a DataFrame or Series through chained assignment using an inplace method.\n",
      "The behavior will change in pandas 3.0. This inplace method will never work because the intermediate object on which we are setting values always behaves as a copy.\n",
      "\n",
      "For example, when doing 'df[col].method(value, inplace=True)', try using 'df.method({col: value}, inplace=True)' or df[col] = df[col].method(value) instead, to perform the operation inplace on the original object.\n",
      "\n",
      "\n",
      "  test_data['Age'].fillna(age_mean, inplace=True)\n",
      "/tmp/ipykernel_212095/3346140858.py:12: FutureWarning: A value is trying to be set on a copy of a DataFrame or Series through chained assignment using an inplace method.\n",
      "The behavior will change in pandas 3.0. This inplace method will never work because the intermediate object on which we are setting values always behaves as a copy.\n",
      "\n",
      "For example, when doing 'df[col].method(value, inplace=True)', try using 'df.method({col: value}, inplace=True)' or df[col] = df[col].method(value) instead, to perform the operation inplace on the original object.\n",
      "\n",
      "\n",
      "  test_data['Embarked'].fillna(test_data['Embarked'].mode()[0], inplace=True)\n",
      "/home/subhopam/.cache/pypoetry/virtualenvs/kaggle-getting-started-PSWy9mKj-py3.12/lib/python3.12/site-packages/sklearn/utils/validation.py:2742: UserWarning: X has feature names, but RandomForestClassifier was fitted without feature names\n",
      "  warnings.warn(\n"
     ]
    },
    {
     "ename": "ValueError",
     "evalue": "could not convert string to float: 'male'",
     "output_type": "error",
     "traceback": [
      "\u001b[31m---------------------------------------------------------------------------\u001b[39m",
      "\u001b[31mValueError\u001b[39m                                Traceback (most recent call last)",
      "\u001b[32m/tmp/ipykernel_212095/3346140858.py\u001b[39m in \u001b[36m?\u001b[39m\u001b[34m()\u001b[39m\n\u001b[32m     17\u001b[39m test_X = test_data.drop([\u001b[33m'PassengerId'\u001b[39m], axis=\u001b[32m1\u001b[39m)\n\u001b[32m     18\u001b[39m \u001b[38;5;66;03m# Ensure the test data has the same features as the training data\u001b[39;00m\n\u001b[32m     19\u001b[39m test_X = test_X[selected_features]\n\u001b[32m     20\u001b[39m \u001b[38;5;66;03m# Make predictions on the test set\u001b[39;00m\n\u001b[32m---> \u001b[39m\u001b[32m21\u001b[39m test_predictions = voting_classifier.predict(test_X)\n\u001b[32m     22\u001b[39m \u001b[38;5;66;03m# Create a DataFrame for the submission\u001b[39;00m\n\u001b[32m     23\u001b[39m submission_df = pd.DataFrame({\n\u001b[32m     24\u001b[39m     \u001b[33m'PassengerId'\u001b[39m: test_data[\u001b[33m'PassengerId'\u001b[39m],\n",
      "\u001b[32m~/.cache/pypoetry/virtualenvs/kaggle-getting-started-PSWy9mKj-py3.12/lib/python3.12/site-packages/sklearn/ensemble/_voting.py\u001b[39m in \u001b[36m?\u001b[39m\u001b[34m(self, X)\u001b[39m\n\u001b[32m    418\u001b[39m             Predicted \u001b[38;5;28;01mclass\u001b[39;00m labels.\n\u001b[32m    419\u001b[39m         \"\"\"\n\u001b[32m    420\u001b[39m         check_is_fitted(self)\n\u001b[32m    421\u001b[39m         \u001b[38;5;28;01mif\u001b[39;00m self.voting == \u001b[33m\"soft\"\u001b[39m:\n\u001b[32m--> \u001b[39m\u001b[32m422\u001b[39m             maj = np.argmax(self.predict_proba(X), axis=\u001b[32m1\u001b[39m)\n\u001b[32m    423\u001b[39m \n\u001b[32m    424\u001b[39m         \u001b[38;5;28;01melse\u001b[39;00m:  \u001b[38;5;66;03m# 'hard' voting\u001b[39;00m\n\u001b[32m    425\u001b[39m             predictions = self._predict(X)\n",
      "\u001b[32m~/.cache/pypoetry/virtualenvs/kaggle-getting-started-PSWy9mKj-py3.12/lib/python3.12/site-packages/sklearn/ensemble/_voting.py\u001b[39m in \u001b[36m?\u001b[39m\u001b[34m(self, X)\u001b[39m\n\u001b[32m    459\u001b[39m             Weighted average probability \u001b[38;5;28;01mfor\u001b[39;00m each \u001b[38;5;28;01mclass\u001b[39;00m per sample.\n\u001b[32m    460\u001b[39m         \"\"\"\n\u001b[32m    461\u001b[39m         check_is_fitted(self)\n\u001b[32m    462\u001b[39m         avg = np.average(\n\u001b[32m--> \u001b[39m\u001b[32m463\u001b[39m             self._collect_probas(X), axis=\u001b[32m0\u001b[39m, weights=self._weights_not_none\n\u001b[32m    464\u001b[39m         )\n\u001b[32m    465\u001b[39m         \u001b[38;5;28;01mreturn\u001b[39;00m avg\n",
      "\u001b[32m~/.cache/pypoetry/virtualenvs/kaggle-getting-started-PSWy9mKj-py3.12/lib/python3.12/site-packages/sklearn/ensemble/_voting.py\u001b[39m in \u001b[36m?\u001b[39m\u001b[34m(self, X)\u001b[39m\n\u001b[32m    436\u001b[39m     \u001b[38;5;28;01mdef\u001b[39;00m _collect_probas(self, X):\n\u001b[32m    437\u001b[39m         \u001b[33m\"\"\"Collect results from clf.predict calls.\"\"\"\u001b[39m\n\u001b[32m--> \u001b[39m\u001b[32m438\u001b[39m         \u001b[38;5;28;01mreturn\u001b[39;00m np.asarray([clf.predict_proba(X) \u001b[38;5;28;01mfor\u001b[39;00m clf \u001b[38;5;28;01min\u001b[39;00m self.estimators_])\n",
      "\u001b[32m~/.cache/pypoetry/virtualenvs/kaggle-getting-started-PSWy9mKj-py3.12/lib/python3.12/site-packages/sklearn/ensemble/_forest.py\u001b[39m in \u001b[36m?\u001b[39m\u001b[34m(self, X)\u001b[39m\n\u001b[32m    941\u001b[39m             classes corresponds to that \u001b[38;5;28;01min\u001b[39;00m the attribute :term:`classes_`.\n\u001b[32m    942\u001b[39m         \"\"\"\n\u001b[32m    943\u001b[39m         check_is_fitted(self)\n\u001b[32m    944\u001b[39m         \u001b[38;5;66;03m# Check data\u001b[39;00m\n\u001b[32m--> \u001b[39m\u001b[32m945\u001b[39m         X = self._validate_X_predict(X)\n\u001b[32m    946\u001b[39m \n\u001b[32m    947\u001b[39m         \u001b[38;5;66;03m# Assign chunk of trees to jobs\u001b[39;00m\n\u001b[32m    948\u001b[39m         n_jobs, _, _ = _partition_estimators(self.n_estimators, self.n_jobs)\n",
      "\u001b[32m~/.cache/pypoetry/virtualenvs/kaggle-getting-started-PSWy9mKj-py3.12/lib/python3.12/site-packages/sklearn/ensemble/_forest.py\u001b[39m in \u001b[36m?\u001b[39m\u001b[34m(self, X)\u001b[39m\n\u001b[32m    633\u001b[39m             ensure_all_finite = \u001b[33m\"allow-nan\"\u001b[39m\n\u001b[32m    634\u001b[39m         \u001b[38;5;28;01melse\u001b[39;00m:\n\u001b[32m    635\u001b[39m             ensure_all_finite = \u001b[38;5;28;01mTrue\u001b[39;00m\n\u001b[32m    636\u001b[39m \n\u001b[32m--> \u001b[39m\u001b[32m637\u001b[39m         X = validate_data(\n\u001b[32m    638\u001b[39m             self,\n\u001b[32m    639\u001b[39m             X,\n\u001b[32m    640\u001b[39m             dtype=DTYPE,\n",
      "\u001b[32m~/.cache/pypoetry/virtualenvs/kaggle-getting-started-PSWy9mKj-py3.12/lib/python3.12/site-packages/sklearn/utils/validation.py\u001b[39m in \u001b[36m?\u001b[39m\u001b[34m(_estimator, X, y, reset, validate_separately, skip_check_array, **check_params)\u001b[39m\n\u001b[32m   2950\u001b[39m             out = y\n\u001b[32m   2951\u001b[39m         \u001b[38;5;28;01melse\u001b[39;00m:\n\u001b[32m   2952\u001b[39m             out = X, y\n\u001b[32m   2953\u001b[39m     \u001b[38;5;28;01melif\u001b[39;00m \u001b[38;5;28;01mnot\u001b[39;00m no_val_X \u001b[38;5;28;01mand\u001b[39;00m no_val_y:\n\u001b[32m-> \u001b[39m\u001b[32m2954\u001b[39m         out = check_array(X, input_name=\u001b[33m\"X\"\u001b[39m, **check_params)\n\u001b[32m   2955\u001b[39m     \u001b[38;5;28;01melif\u001b[39;00m no_val_X \u001b[38;5;28;01mand\u001b[39;00m \u001b[38;5;28;01mnot\u001b[39;00m no_val_y:\n\u001b[32m   2956\u001b[39m         out = _check_y(y, **check_params)\n\u001b[32m   2957\u001b[39m     \u001b[38;5;28;01melse\u001b[39;00m:\n",
      "\u001b[32m~/.cache/pypoetry/virtualenvs/kaggle-getting-started-PSWy9mKj-py3.12/lib/python3.12/site-packages/sklearn/utils/validation.py\u001b[39m in \u001b[36m?\u001b[39m\u001b[34m(array, accept_sparse, accept_large_sparse, dtype, order, copy, force_writeable, force_all_finite, ensure_all_finite, ensure_non_negative, ensure_2d, allow_nd, ensure_min_samples, ensure_min_features, estimator, input_name)\u001b[39m\n\u001b[32m   1050\u001b[39m                         )\n\u001b[32m   1051\u001b[39m                     array = xp.astype(array, dtype, copy=\u001b[38;5;28;01mFalse\u001b[39;00m)\n\u001b[32m   1052\u001b[39m                 \u001b[38;5;28;01melse\u001b[39;00m:\n\u001b[32m   1053\u001b[39m                     array = _asarray_with_order(array, order=order, dtype=dtype, xp=xp)\n\u001b[32m-> \u001b[39m\u001b[32m1054\u001b[39m             \u001b[38;5;28;01mexcept\u001b[39;00m ComplexWarning \u001b[38;5;28;01mas\u001b[39;00m complex_warning:\n\u001b[32m   1055\u001b[39m                 raise ValueError(\n\u001b[32m   1056\u001b[39m                     \u001b[33m\"Complex data not supported\\n{}\\n\"\u001b[39m.format(array)\n\u001b[32m   1057\u001b[39m                 ) \u001b[38;5;28;01mfrom\u001b[39;00m complex_warning\n",
      "\u001b[32m~/.cache/pypoetry/virtualenvs/kaggle-getting-started-PSWy9mKj-py3.12/lib/python3.12/site-packages/sklearn/utils/_array_api.py\u001b[39m in \u001b[36m?\u001b[39m\u001b[34m(array, dtype, order, copy, xp, device)\u001b[39m\n\u001b[32m    753\u001b[39m         \u001b[38;5;66;03m# Use NumPy API to support order\u001b[39;00m\n\u001b[32m    754\u001b[39m         \u001b[38;5;28;01mif\u001b[39;00m copy \u001b[38;5;28;01mis\u001b[39;00m \u001b[38;5;28;01mTrue\u001b[39;00m:\n\u001b[32m    755\u001b[39m             array = numpy.array(array, order=order, dtype=dtype)\n\u001b[32m    756\u001b[39m         \u001b[38;5;28;01melse\u001b[39;00m:\n\u001b[32m--> \u001b[39m\u001b[32m757\u001b[39m             array = numpy.asarray(array, order=order, dtype=dtype)\n\u001b[32m    758\u001b[39m \n\u001b[32m    759\u001b[39m         \u001b[38;5;66;03m# At this point array is a NumPy ndarray. We convert it to an array\u001b[39;00m\n\u001b[32m    760\u001b[39m         \u001b[38;5;66;03m# container that is consistent with the input's namespace.\u001b[39;00m\n",
      "\u001b[32m~/.cache/pypoetry/virtualenvs/kaggle-getting-started-PSWy9mKj-py3.12/lib/python3.12/site-packages/pandas/core/generic.py\u001b[39m in \u001b[36m?\u001b[39m\u001b[34m(self, dtype, copy)\u001b[39m\n\u001b[32m   2164\u001b[39m             )\n\u001b[32m   2165\u001b[39m         values = self._values\n\u001b[32m   2166\u001b[39m         \u001b[38;5;28;01mif\u001b[39;00m copy \u001b[38;5;28;01mis\u001b[39;00m \u001b[38;5;28;01mNone\u001b[39;00m:\n\u001b[32m   2167\u001b[39m             \u001b[38;5;66;03m# Note: branch avoids `copy=None` for NumPy 1.x support\u001b[39;00m\n\u001b[32m-> \u001b[39m\u001b[32m2168\u001b[39m             arr = np.asarray(values, dtype=dtype)\n\u001b[32m   2169\u001b[39m         \u001b[38;5;28;01melse\u001b[39;00m:\n\u001b[32m   2170\u001b[39m             arr = np.array(values, dtype=dtype, copy=copy)\n\u001b[32m   2171\u001b[39m \n",
      "\u001b[31mValueError\u001b[39m: could not convert string to float: 'male'"
     ]
    }
   ],
   "source": [
    "import joblib\n",
    "# Save the best model (Random Forest) using joblib\n",
    "joblib.dump(rf_classifier, 'random_forest_model.pkl')\n",
    "# Save the voting classifier model\n",
    "joblib.dump(voting_classifier, 'voting_classifier_model.pkl')\n",
    "# Load the model to verify it works\n",
    "loaded_model = joblib.load('random_forest_model.pkl')\n",
    "# Make predictions with the loaded model\n",
    "loaded_predictions = loaded_model.predict(X_test)\n",
    "# Verify the loaded model's predictions match the original predictions\n",
    "assert np.array_equal(y_pred, loaded_predictions), \"Loaded model predictions do not match original predictions.\"\n",
    "# Save the final DataFrame to a CSV file\n",
    "final_df.to_csv('final_titanic_data.csv', index=False)\n",
    "# Display the final DataFrame\n",
    "print(\"\\nFinal DataFrame saved to 'final_titanic_data.csv'.\")\n",
    "# Display the first few rows of the final DataFrame\n",
    "final_df.head()"
   ]
  },
  {
   "cell_type": "code",
   "execution_count": null,
   "id": "5b4abda2",
   "metadata": {},
   "outputs": [],
   "source": [
    "import joblib\n",
    "# Load the test data\n",
    "\n",
    "test_data = pd.read_csv('./data/test.csv')\n",
    "# Preprocess the test data (same steps as training)\n",
    "test_data = test_data.drop(columns=['Name', 'Ticket', 'Cabin'])\n",
    "# Impute missing Age values with training mean (reuse age_mean from training)\n",
    "test_data['Age'].fillna(age_mean, inplace=True)\n",
    "# Impute missing Embarked values with training mode (reuse mode from training)\n",
    "test_data['Embarked'].fillna(data['Embarked'].mode()[0], inplace=True)\n",
    "test_data['Embarked'] = test_data['Embarked'].map({'C': 0, 'Q': 1, 'S': 2})\n",
    "# Encode Sex column (reuse mapping from training)\n",
    "test_data['Sex'] = test_data['Sex'].map({'male': 0, 'female': 1})\n",
    "\n",
    "# Select the same features as used in training\n",
    "X_test_final = test_data[selected_features]\n",
    "\n",
    "# Load the trained model\n",
    "loaded_model = joblib.load('random_forest_model.pkl')\n",
    "# Predict Survived for the test set\n",
    "survived_pred = loaded_model.predict(X_test_final)\n",
    "\n",
    "# Prepare the output DataFrame\n",
    "output_df = pd.DataFrame({\n",
    "    'PassengerId': test_data['PassengerId'],\n",
    "    'Survived': survived_pred\n",
    "})\n",
    "# Save to CSV\n",
    "output_df.to_csv('titanic_predictions.csv', index=False)\n",
    "print(\"Predictions saved to 'titanic_predictions.csv'.\")\n",
    "output_df.head()"
   ]
  }
 ],
 "metadata": {
  "kernelspec": {
   "display_name": "kaggle-getting-started-PSWy9mKj-py3.12",
   "language": "python",
   "name": "python3"
  },
  "language_info": {
   "codemirror_mode": {
    "name": "ipython",
    "version": 3
   },
   "file_extension": ".py",
   "mimetype": "text/x-python",
   "name": "python",
   "nbconvert_exporter": "python",
   "pygments_lexer": "ipython3",
   "version": "3.12.4"
  }
 },
 "nbformat": 4,
 "nbformat_minor": 5
}
